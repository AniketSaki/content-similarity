{
 "cells": [
  {
   "cell_type": "markdown",
   "metadata": {},
   "source": [
    "# Content Similarity"
   ]
  },
  {
   "cell_type": "markdown",
   "metadata": {},
   "source": [
    "First lets import all modules.\n",
    "Need gensim for word embeddings. It provides a method to load Google's Word2Vec 300 dimension vector Word Embeddings.\n",
    "preprocess holds methods for various steps required in cleansing of text\n",
    "os is used to iterate over the files\n",
    "numpy is used for matrix calculations"
   ]
  },
  {
   "cell_type": "code",
   "execution_count": 1,
   "metadata": {},
   "outputs": [
    {
     "name": "stderr",
     "output_type": "stream",
     "text": [
      "c:\\python34\\lib\\site-packages\\gensim\\utils.py:1197: UserWarning: detected Windows; aliasing chunkize to chunkize_serial\n",
      "  warnings.warn(\"detected Windows; aliasing chunkize to chunkize_serial\")\n"
     ]
    }
   ],
   "source": [
    "from gensim import models, matutils\n",
    "from preprocess import punctuation, stopword\n",
    "from os import walk\n",
    "import numpy"
   ]
  },
  {
   "cell_type": "markdown",
   "metadata": {},
   "source": [
    "Let's define all our variables."
   ]
  },
  {
   "cell_type": "code",
   "execution_count": 2,
   "metadata": {},
   "outputs": [],
   "source": [
    "embedding_score = []\n",
    "cos_sim_matrix = numpy.zeros((17, 17))\n",
    "unique_id = 0\n",
    "id_lookup = {}\n",
    "\n"
   ]
  },
  {
   "cell_type": "code",
   "execution_count": 3,
   "metadata": {},
   "outputs": [],
   "source": [
    "model = models.KeyedVectors.load_word2vec_format(\n",
    "    'Resources\\GoogleNews-vectors-negative300.bin', binary=True)"
   ]
  },
  {
   "cell_type": "markdown",
   "metadata": {},
   "source": [
    "This is our method to generate document embeddings. It will parse through the text files and store all content words in a list. We get the vectors for these words by a simple lookup at the Word2Vec. We then calculate the mean of all the word vectors and generate a normalized, unit vector for each document. "
   ]
  },
  {
   "cell_type": "code",
   "execution_count": 4,
   "metadata": {},
   "outputs": [],
   "source": [
    "def generate_score(filepath):\n",
    "    with open(filepath, 'r') as f:\n",
    "        words = []\n",
    "        for line in f.readlines():\n",
    "            line = punctuation(line)\n",
    "            tokens = stopword(line)\n",
    "            for token in tokens:\n",
    "                words.append(token)\n",
    "        vectors = [model[word] for word in words if word in model.vocab]\n",
    "        embedding_score.append(matutils.unitvec(numpy.mean(vectors, axis=0)))\n"
   ]
  },
  {
   "cell_type": "markdown",
   "metadata": {},
   "source": [
    "This is our method to generate cosine similarity matrix for all the document vectors. Since the number of documents are low, we can build the square matrix, otherwise we should go for the triangle matrix to reduce repetitive computations. Since we built unit vectors while generating scores, we can simply perform dot product (norm is 1)."
   ]
  },
  {
   "cell_type": "code",
   "execution_count": 5,
   "metadata": {},
   "outputs": [],
   "source": [
    "def generate_cos_sim_matrix():\n",
    "    for i in range(0, len(embedding_score)):\n",
    "        for j in range(0, len(embedding_score)):\n",
    "            cos_sim_matrix[i][j] = numpy.dot(embedding_score[i], embedding_score[j])\n",
    "        cos_sim_matrix[i][i] = 0\n"
   ]
  },
  {
   "cell_type": "markdown",
   "metadata": {},
   "source": [
    "this is our main script where we iterate over the documents to generate the scores"
   ]
  },
  {
   "cell_type": "code",
   "execution_count": 6,
   "metadata": {},
   "outputs": [],
   "source": [
    "for root, dir, files in walk('Resources\\Literature'):\n",
    "    for file in files:\n",
    "        path = root + '\\\\' + file\n",
    "        generate_score(path)\n",
    "        id_lookup[unique_id] = file\n",
    "        unique_id += 1"
   ]
  },
  {
   "cell_type": "code",
   "execution_count": 7,
   "metadata": {},
   "outputs": [],
   "source": [
    "generate_cos_sim_matrix()\n"
   ]
  },
  {
   "cell_type": "markdown",
   "metadata": {},
   "source": [
    "# Analysis"
   ]
  },
  {
   "cell_type": "markdown",
   "metadata": {},
   "source": [
    "Let's look at the cosine similarity matrix."
   ]
  },
  {
   "cell_type": "code",
   "execution_count": 8,
   "metadata": {},
   "outputs": [
    {
     "data": {
      "text/plain": [
       "array([[0.        , 0.77064266, 0.77659589, 0.79999454, 0.78937563,\n",
       "        0.78857102, 0.80348056, 0.79743656, 0.81331713, 0.79645459,\n",
       "        0.8065689 , 0.78682124, 0.8167036 , 0.79087126, 0.76666235,\n",
       "        0.79662652, 0.77760814],\n",
       "       [0.77064266, 0.        , 0.74282799, 0.79431756, 0.72912796,\n",
       "        0.73679943, 0.74710037, 0.71924784, 0.72122472, 0.72521052,\n",
       "        0.67605161, 0.73303178, 0.79902668, 0.82031451, 0.80092176,\n",
       "        0.80825141, 0.81728713],\n",
       "       [0.77659589, 0.74282799, 0.        , 0.81813557, 0.794951  ,\n",
       "        0.77714194, 0.7907143 , 0.798927  , 0.7943737 , 0.79066378,\n",
       "        0.80476037, 0.80650089, 0.78892165, 0.74407457, 0.72517892,\n",
       "        0.77115472, 0.7518591 ],\n",
       "       [0.79999454, 0.79431756, 0.81813557, 0.        , 0.79885263,\n",
       "        0.83165865, 0.79442899, 0.78285104, 0.77747958, 0.80550096,\n",
       "        0.80502909, 0.79503664, 0.8119385 , 0.7845675 , 0.7699288 ,\n",
       "        0.79338902, 0.78225501],\n",
       "       [0.78937563, 0.72912796, 0.794951  , 0.79885263, 0.        ,\n",
       "        0.80539686, 0.8588294 , 0.80838615, 0.79623251, 0.84741985,\n",
       "        0.79937174, 0.81690499, 0.88225276, 0.84628047, 0.8395885 ,\n",
       "        0.86154198, 0.83140101],\n",
       "       [0.78857102, 0.73679943, 0.77714194, 0.83165865, 0.80539686,\n",
       "        0.        , 0.86182838, 0.78344681, 0.86421333, 0.78862395,\n",
       "        0.804539  , 0.81128711, 0.79236795, 0.7759418 , 0.75082815,\n",
       "        0.77285153, 0.7520756 ],\n",
       "       [0.80348056, 0.74710037, 0.7907143 , 0.79442899, 0.8588294 ,\n",
       "        0.86182838, 0.        , 0.82433999, 0.83333806, 0.84433244,\n",
       "        0.83975762, 0.79545325, 0.83812098, 0.80745228, 0.79399903,\n",
       "        0.81533942, 0.79077311],\n",
       "       [0.79743656, 0.71924784, 0.798927  , 0.78285104, 0.80838615,\n",
       "        0.78344681, 0.82433999, 0.        , 0.82963081, 0.77919632,\n",
       "        0.80342415, 0.80041873, 0.83345759, 0.80990805, 0.81107953,\n",
       "        0.83075173, 0.81378674],\n",
       "       [0.81331713, 0.72122472, 0.7943737 , 0.77747958, 0.79623251,\n",
       "        0.86421333, 0.83333806, 0.82963081, 0.        , 0.75235313,\n",
       "        0.80608896, 0.79975643, 0.79449817, 0.7755501 , 0.75254651,\n",
       "        0.77954449, 0.77034884],\n",
       "       [0.79645459, 0.72521052, 0.79066378, 0.80550096, 0.84741985,\n",
       "        0.78862395, 0.84433244, 0.77919632, 0.75235313, 0.        ,\n",
       "        0.78816561, 0.83283153, 0.84893979, 0.8038962 , 0.79657107,\n",
       "        0.82568111, 0.7827515 ],\n",
       "       [0.8065689 , 0.67605161, 0.80476037, 0.80502909, 0.79937174,\n",
       "        0.804539  , 0.83975762, 0.80342415, 0.80608896, 0.78816561,\n",
       "        0.        , 0.80536576, 0.80856911, 0.74531156, 0.72626082,\n",
       "        0.7739274 , 0.73845373],\n",
       "       [0.78682124, 0.73303178, 0.80650089, 0.79503664, 0.81690499,\n",
       "        0.81128711, 0.79545325, 0.80041873, 0.79975643, 0.83283153,\n",
       "        0.80536576, 0.        , 0.85053994, 0.82764561, 0.81533113,\n",
       "        0.84324459, 0.81970576],\n",
       "       [0.8167036 , 0.79902668, 0.78892165, 0.8119385 , 0.88225276,\n",
       "        0.79236795, 0.83812098, 0.83345759, 0.79449817, 0.84893979,\n",
       "        0.80856911, 0.85053994, 0.        , 0.96070525, 0.95615997,\n",
       "        0.98052178, 0.94407398],\n",
       "       [0.79087126, 0.82031451, 0.74407457, 0.7845675 , 0.84628047,\n",
       "        0.7759418 , 0.80745228, 0.80990805, 0.7755501 , 0.8038962 ,\n",
       "        0.74531156, 0.82764561, 0.96070525, 0.        , 0.97886457,\n",
       "        0.97450273, 0.96445968],\n",
       "       [0.76666235, 0.80092176, 0.72517892, 0.7699288 , 0.8395885 ,\n",
       "        0.75082815, 0.79399903, 0.81107953, 0.75254651, 0.79657107,\n",
       "        0.72626082, 0.81533113, 0.95615997, 0.97886457, 0.        ,\n",
       "        0.98149776, 0.96966606],\n",
       "       [0.79662652, 0.80825141, 0.77115472, 0.79338902, 0.86154198,\n",
       "        0.77285153, 0.81533942, 0.83075173, 0.77954449, 0.82568111,\n",
       "        0.7739274 , 0.84324459, 0.98052178, 0.97450273, 0.98149776,\n",
       "        0.        , 0.97244538],\n",
       "       [0.77760814, 0.81728713, 0.7518591 , 0.78225501, 0.83140101,\n",
       "        0.7520756 , 0.79077311, 0.81378674, 0.77034884, 0.7827515 ,\n",
       "        0.73845373, 0.81970576, 0.94407398, 0.96445968, 0.96966606,\n",
       "        0.97244538, 0.        ]])"
      ]
     },
     "execution_count": 8,
     "metadata": {},
     "output_type": "execute_result"
    }
   ],
   "source": [
    "cos_sim_matrix"
   ]
  },
  {
   "cell_type": "markdown",
   "metadata": {},
   "source": [
    "Let's also display the key for our notations."
   ]
  },
  {
   "cell_type": "code",
   "execution_count": 9,
   "metadata": {},
   "outputs": [
    {
     "data": {
      "text/plain": [
       "{0: 'The_Ass_and_the_Lapdog.txt',\n",
       " 1: 'The_Cock_and_the_Pearl.txt',\n",
       " 2: 'The_Dog_and_the_Shadow.txt',\n",
       " 3: 'The_Fox_and_the_Crow.txt',\n",
       " 4: 'The_Frogs_Desiring_a_King.txt',\n",
       " 5: 'The_Lions_Share.txt',\n",
       " 6: 'The_Lion_and_the_Mouse.txt',\n",
       " 7: 'The_Man_and_the_Serpent.txt',\n",
       " 8: 'The_Sick_Lion.txt',\n",
       " 9: 'The_Town_Mouse_and_the_Country_Mouse.txt',\n",
       " 10: 'The_Wolf_and_the_Crane.txt',\n",
       " 11: 'The_Wolf_and_the_Lamb.txt',\n",
       " 12: 'Coriolanus.txt',\n",
       " 13: 'HenryV.txt',\n",
       " 14: 'King_Lear.txt',\n",
       " 15: 'Othello.txt',\n",
       " 16: 'Tempest.txt'}"
      ]
     },
     "execution_count": 9,
     "metadata": {},
     "output_type": "execute_result"
    }
   ],
   "source": [
    "id_lookup"
   ]
  },
  {
   "cell_type": "markdown",
   "metadata": {},
   "source": [
    "Now let's take a look at which document our system reccommends."
   ]
  },
  {
   "cell_type": "code",
   "execution_count": 10,
   "metadata": {},
   "outputs": [
    {
     "name": "stdout",
     "output_type": "stream",
     "text": [
      "The_Ass_and_the_Lapdog.txt :  Coriolanus.txt\n",
      "The_Cock_and_the_Pearl.txt :  HenryV.txt\n",
      "The_Dog_and_the_Shadow.txt :  The_Fox_and_the_Crow.txt\n",
      "The_Fox_and_the_Crow.txt :  The_Lions_Share.txt\n",
      "The_Frogs_Desiring_a_King.txt :  Coriolanus.txt\n",
      "The_Lions_Share.txt :  The_Sick_Lion.txt\n",
      "The_Lion_and_the_Mouse.txt :  The_Lions_Share.txt\n",
      "The_Man_and_the_Serpent.txt :  Coriolanus.txt\n",
      "The_Sick_Lion.txt :  The_Lions_Share.txt\n",
      "The_Town_Mouse_and_the_Country_Mouse.txt :  Coriolanus.txt\n",
      "The_Wolf_and_the_Crane.txt :  The_Lion_and_the_Mouse.txt\n",
      "The_Wolf_and_the_Lamb.txt :  Coriolanus.txt\n",
      "Coriolanus.txt :  Othello.txt\n",
      "HenryV.txt :  King_Lear.txt\n",
      "King_Lear.txt :  Othello.txt\n",
      "Othello.txt :  King_Lear.txt\n",
      "Tempest.txt :  Othello.txt\n"
     ]
    }
   ],
   "source": [
    "for i in range(0, len(cos_sim_matrix)):\n",
    "    print(id_lookup[i],': ', id_lookup[numpy.argmax(cos_sim_matrix[i])])\n"
   ]
  },
  {
   "cell_type": "markdown",
   "metadata": {},
   "source": [
    "Of the 12 fables: 6 have a Shakespeare work as reccomended reading and the other 6 are fables. \n",
    "For the Shakespearen works, recommended reading is another Shakespearen work.\n",
    "Let's take a closer look."
   ]
  },
  {
   "cell_type": "markdown",
   "metadata": {},
   "source": [
    "Let's look at fables that recommend plays. below we display documents that have a cosine similarity score of 0.8 or greater. Note that the list is not ordered."
   ]
  },
  {
   "cell_type": "code",
   "execution_count": 11,
   "metadata": {},
   "outputs": [
    {
     "name": "stdout",
     "output_type": "stream",
     "text": [
      "The_Ass_and_the_Lapdog.txt :  ['The_Lion_and_the_Mouse.txt: 0.8034805610123193', 'The_Sick_Lion.txt: 0.813317131726151', 'The_Wolf_and_the_Crane.txt: 0.8065689029178493', 'Coriolanus.txt: 0.8167035976513876']\n",
      "The_Cock_and_the_Pearl.txt :  ['HenryV.txt: 0.8203145100031514', 'King_Lear.txt: 0.8009217594756634', 'Othello.txt: 0.8082514090624006', 'Tempest.txt: 0.8172871338534662']\n",
      "The_Frogs_Desiring_a_King.txt :  ['The_Lions_Share.txt: 0.8053968619625487', 'The_Lion_and_the_Mouse.txt: 0.8588294030632264', 'The_Man_and_the_Serpent.txt: 0.8083861512482955', 'The_Town_Mouse_and_the_Country_Mouse.txt: 0.8474198539400096', 'The_Wolf_and_the_Lamb.txt: 0.8169049883762372', 'Coriolanus.txt: 0.8822527641991893', 'HenryV.txt: 0.8462804674431661', 'King_Lear.txt: 0.8395884951413659', 'Othello.txt: 0.8615419842491271', 'Tempest.txt: 0.8314010119411108']\n",
      "The_Man_and_the_Serpent.txt :  ['The_Frogs_Desiring_a_King.txt: 0.8083861512482955', 'The_Lion_and_the_Mouse.txt: 0.8243399859310384', 'The_Sick_Lion.txt: 0.8296308125948578', 'The_Wolf_and_the_Crane.txt: 0.8034241520289351', 'The_Wolf_and_the_Lamb.txt: 0.8004187345629001', 'Coriolanus.txt: 0.8334575865081492', 'HenryV.txt: 0.8099080516730708', 'King_Lear.txt: 0.8110795280551628', 'Othello.txt: 0.8307517312186927', 'Tempest.txt: 0.8137867381147839']\n",
      "The_Town_Mouse_and_the_Country_Mouse.txt :  ['The_Fox_and_the_Crow.txt: 0.8055009642402418', 'The_Frogs_Desiring_a_King.txt: 0.8474198539400096', 'The_Lion_and_the_Mouse.txt: 0.8443324362419002', 'The_Wolf_and_the_Lamb.txt: 0.8328315281698324', 'Coriolanus.txt: 0.8489397863527854', 'HenryV.txt: 0.8038961990465994', 'Othello.txt: 0.825681105063567']\n",
      "The_Wolf_and_the_Lamb.txt :  ['The_Dog_and_the_Shadow.txt: 0.8065008895139385', 'The_Frogs_Desiring_a_King.txt: 0.8169049883762372', 'The_Lions_Share.txt: 0.8112871054046272', 'The_Man_and_the_Serpent.txt: 0.8004187345629001', 'The_Town_Mouse_and_the_Country_Mouse.txt: 0.8328315281698324', 'The_Wolf_and_the_Crane.txt: 0.8053657590700756', 'Coriolanus.txt: 0.8505399432262832', 'HenryV.txt: 0.8276456081376998', 'King_Lear.txt: 0.8153311328564654', 'Othello.txt: 0.843244588021521', 'Tempest.txt: 0.8197057599516244']\n"
     ]
    }
   ],
   "source": [
    "for i in range(0, len(cos_sim_matrix)):\n",
    "    if i in [0, 1, 4, 7, 9, 11]:\n",
    "        top_recos = []\n",
    "        for j in range(0, len(cos_sim_matrix[i])):\n",
    "            if cos_sim_matrix[i][j] >= 0.8:\n",
    "                top_recos.append(id_lookup[j] + ': ' + str(cos_sim_matrix[i][j]))\n",
    "        print(id_lookup[i], ': ', top_recos)\n"
   ]
  },
  {
   "cell_type": "markdown",
   "metadata": {},
   "source": [
    "Points to note:\n",
    "\n",
    "The_Ass_and_the_Lapdog.txt is almost as similar to The_Sick_Lion.txt as it is to Coriolanus.txt\n",
    "\n",
    "The other 5 fables have (4, 5, 5, 3, 5) plays with a score higher than 0.8, in order.\n",
    "\n",
    "The fable, The_Cock_and_the_Pearl.txt does not have a single other fable with a score higher than 0.8\n",
    "\n",
    "3 fables have another fable in the top 2. 1 fable, The_Frogs_Desiring_a_King.txt, has fable in top 3."
   ]
  }
 ],
 "metadata": {
  "kernelspec": {
   "display_name": "Python 3",
   "language": "python",
   "name": "python3"
  },
  "language_info": {
   "codemirror_mode": {
    "name": "ipython",
    "version": 3
   },
   "file_extension": ".py",
   "mimetype": "text/x-python",
   "name": "python",
   "nbconvert_exporter": "python",
   "pygments_lexer": "ipython3",
   "version": "3.4.4"
  }
 },
 "nbformat": 4,
 "nbformat_minor": 1
}
